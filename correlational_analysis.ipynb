{
 "cells": [
  {
   "cell_type": "code",
   "execution_count": 21,
   "metadata": {},
   "outputs": [],
   "source": [
    "import pandas as pd\n",
    "import numpy as np\n",
    "from scipy import stats\n",
    "from geopy import distance\n",
    "import matplotlib.pyplot as plt\n",
    "import seaborn as sns"
   ]
  },
  {
   "cell_type": "code",
   "execution_count": 22,
   "metadata": {},
   "outputs": [],
   "source": [
    "datasets_dir = \"C:/Users/vluon/Desktop/Math and Science/Student Performance Data Analysis/Student-AP-Data-Analysis/\"\n",
    "dataset_name = \"cleaned San Diego County Schools Dataset 2015-2017.xlsx\"\n",
    "vosd = pd.read_excel(datasets_dir + dataset_name, sheet_name=\"VOSD San Diego County\")\n",
    "ela = pd.read_excel(datasets_dir + dataset_name, sheet_name=\"ELA\")\n",
    "math = pd.read_excel(datasets_dir + dataset_name, sheet_name=\"MATH\")"
   ]
  },
  {
   "cell_type": "code",
   "execution_count": 23,
   "metadata": {},
   "outputs": [],
   "source": [
    "# Join MATH and ELA scores into main vosd dataset for computations later.\n",
    "# Join only scores for grades 3. \n",
    "\n",
    "math[\"CDSCode\"] = math[\"County Code\"].astype(str) + math[\"District Code\"].astype(str) + math[\"School Code\"].astype(str).apply(lambda code: \"0\" + code if len(code) < 7 else code)\n",
    "math.rename(columns={\n",
    "    \"Grade\": \"MATH Grade\",\n",
    "    \"Mean Scale Score\": \"MATH Mean Scale Score\",\n",
    "    \"Students with Scores\": \"MATH Students with Scores\"    \n",
    "}, inplace=True)\n",
    "math_g3 = math[math[\"MATH Grade\"] == 3]\n",
    "math_joiner = math_g3[[\"CDSCode\", \"MATH Grade\", \"MATH Mean Scale Score\", \"MATH Students with Scores\"]]\n",
    "\n",
    "ela[\"CDSCode\"] = ela[\"County Code\"].astype(str) + ela[\"District Code\"].astype(str) + ela[\"School Code\"].astype(str).apply(lambda code: \"0\" + code if len(code) < 7 else code)\n",
    "ela.rename(columns={\n",
    "    \"Grade\": \"ELA Grade\",\n",
    "    \"Mean Scale Score\": \"ELA Mean Scale Score\",\n",
    "    \"Students with Scores\": \"ELA Students with Scores\"    \n",
    "}, inplace=True)\n",
    "ela_g3 = ela[ela[\"ELA Grade\"] == 3]\n",
    "ela_joiner = ela_g3[[\"CDSCode\", \"ELA Grade\", \"ELA Mean Scale Score\", \"ELA Students with Scores\"]]\n",
    "\n",
    "vosd[\"CDSCode\"] = vosd[\"CDSCode\"].astype(str)\n",
    "vosd = pd.merge(vosd, math_joiner, how=\"left\", on=[\"CDSCode\"])\n",
    "vosd = pd.merge(vosd, ela_joiner, how=\"left\", on=[\"CDSCode\"])"
   ]
  },
  {
   "cell_type": "code",
   "execution_count": 24,
   "metadata": {},
   "outputs": [
    {
     "data": {
      "text/plain": [
       "'vosd[[\\n    \"School\",\\n    \"District\",\\n    \"2015-2016 AP Score = 1\",\\n    \"2015-2016 AP Score = 2\",\\n    \"2015-2016 AP Score = 3\",\\n    \"2015-2016 AP Score = 4\",\\n    \"2015-2016 AP Score = 5\",\\n    \"AP Pass Rate\"\\n]]'"
      ]
     },
     "execution_count": 24,
     "metadata": {},
     "output_type": "execute_result"
    }
   ],
   "source": [
    "# Compute AP Pass Rate for each high school\n",
    "\n",
    "# Parameters: ni corresponds to the number of students who scored i\n",
    "def compute_ap_pass_rate(n1, n2, n3, n4, n5):\n",
    "    if isinstance(n1, str) or isinstance(n2, str) or isinstance(n3, str) or isinstance(n4, str) or isinstance(n5, str):\n",
    "        return None\n",
    "    return (n3 + n4 + n5) / (n1 + n2 + n3 + n4 + n5)\n",
    "\n",
    "\n",
    "#numeric_filter = pd.to_numeric(vosd[\"2015-2016 AP Score = 1\"], errors='coerce').notna()\n",
    "#vosd_ap_schools = vosd[numeric_filter]\n",
    "#total_ap_tests = vosd_ap_schools[\"2015-2016 AP Score = 1\"] + vosd_ap_schools[\"2015-2016 AP Score = 2\"] + vosd_ap_schools[\"2015-2016 AP Score = 3\"] + vosd_ap_schools[\"2015-2016 AP Score = 4\"] + vosd_ap_schools[\"2015-2016 AP Score = 5\"]\n",
    "#(vosd[\"2015-2016 AP Score = 3\"] + vosd[\"2015-2016 AP Score = 4\"] + vosd[\"2015-2016 AP Score = 5\"]) / (total_ap_tests)\n",
    "vosd[\"AP Pass Rate\"] = vosd.apply(lambda row: compute_ap_pass_rate(\n",
    "    row[\"2015-2016 AP Score = 1\"],\n",
    "    row[\"2015-2016 AP Score = 2\"],\n",
    "    row[\"2015-2016 AP Score = 3\"],\n",
    "    row[\"2015-2016 AP Score = 4\"],\n",
    "    row[\"2015-2016 AP Score = 5\"]\n",
    "), axis=1)\n",
    "\"\"\"vosd[[\n",
    "    \"School\",\n",
    "    \"District\",\n",
    "    \"2015-2016 AP Score = 1\",\n",
    "    \"2015-2016 AP Score = 2\",\n",
    "    \"2015-2016 AP Score = 3\",\n",
    "    \"2015-2016 AP Score = 4\",\n",
    "    \"2015-2016 AP Score = 5\",\n",
    "    \"AP Pass Rate\"\n",
    "]]\"\"\""
   ]
  },
  {
   "cell_type": "code",
   "execution_count": 25,
   "metadata": {},
   "outputs": [],
   "source": [
    "# Separate vosd by district type \n",
    "vosd_hsd = vosd[vosd[\"DOCType\"] == \"High School District\"]\n",
    "vosd_esd = vosd[vosd[\"DOCType\"] == \"Elementary School District\"]\n",
    "vosd_usd = vosd[(vosd[\"DOCType\"] == \"Unified School District\") \n",
    "                | (vosd[\"DOCType\"] == \"County Office of Education (COE)\") \n",
    "                | (vosd[\"DOCType\"] == \"State Board of Education\") \n",
    "                | (vosd[\"DOCType\"] == \"Statewide Benefit Charter\")]"
   ]
  },
  {
   "cell_type": "code",
   "execution_count": 26,
   "metadata": {},
   "outputs": [
    {
     "data": {
      "text/plain": [
       "{'Fallbrook Union High': {'Fallbrook Union Elementary'},\n",
       " 'Grossmont Union High': {'Alpine Union Elementary',\n",
       "  'Cajon Valley Union',\n",
       "  'La Mesa-Spring Valley',\n",
       "  'Lemon Grove',\n",
       "  'Santee'},\n",
       " 'Sweetwater Union High': {'Chula Vista Elementary',\n",
       "  'National Elementary',\n",
       "  'San Ysidro Elementary',\n",
       "  'South Bay Union'},\n",
       " 'San Dieguito Union High': {'Cardiff Elementary',\n",
       "  'Del Mar Union Elementary',\n",
       "  'Encinitas Union Elementary',\n",
       "  'Rancho Santa Fe Elementary',\n",
       "  'Solana Beach Elementary'},\n",
       " 'Escondido Union High': {'Escondido Union', 'San Pasqual Union Elementary'},\n",
       " 'Julian Union High': {'Julian Union Elementary'}}"
      ]
     },
     "execution_count": 26,
     "metadata": {},
     "output_type": "execute_result"
    }
   ],
   "source": [
    "# Used to assist gathering the schools that feed into High School Districts\n",
    "hsd_feeders = {\n",
    "    district_name: {} for district_name in vosd_hsd[\"District\"].unique()\n",
    "}\n",
    "hsd_feeders[\"Escondido Union High\"] = {\"Escondido Union\", \"San Pasqual Union Elementary\"}\n",
    "hsd_feeders[\"Fallbrook Union High\"] = {\"Fallbrook Union Elementary\"}\n",
    "hsd_feeders[\"Grossmont Union High\"] = {\"Alpine Union Elementary\", \"Cajon Valley Union\", \"La Mesa-Spring Valley\", \"Lemon Grove\", \"Santee\"}\n",
    "hsd_feeders[\"Sweetwater Union High\"] = {\"Chula Vista Elementary\", \"National Elementary\", \"San Ysidro Elementary\", \"South Bay Union\"}\n",
    "hsd_feeders[\"San Dieguito Union High\"] = {\"Cardiff Elementary\", \"Del Mar Union Elementary\", \"Encinitas Union Elementary\", \"Rancho Santa Fe Elementary\", \"Solana Beach Elementary\"}\n",
    "hsd_feeders[\"Julian Union High\"] = {\"Julian Union Elementary\"} \n",
    "\n",
    "hsd_feeders"
   ]
  },
  {
   "cell_type": "code",
   "execution_count": 27,
   "metadata": {},
   "outputs": [],
   "source": [
    "def is_high_school(gsoffered: str) -> bool:\n",
    "    # This set comprises all unique ranges in which a grade in 9-12 is included\n",
    "    hs_grade_ranges = {\"9-12\",\"K-12\",\"7-12\",\"11-12\",\"6-12\"}\n",
    "    return gsoffered in hs_grade_ranges\n",
    "\n",
    "def is_ele_school(gsoffered: str) -> bool:\n",
    "    return not is_high_school(gsoffered)\n",
    "\n",
    "def is_k12(gsoffered: str) -> bool:\n",
    "    return gsoffered == \"K-12\""
   ]
  },
  {
   "cell_type": "code",
   "execution_count": 28,
   "metadata": {},
   "outputs": [],
   "source": [
    "# Used on high schools to return what districts should be considered in assignment, given this high school's district type\n",
    "def get_correct_districts(district_name:str, district_type: str) -> set:\n",
    "    if district_type == \"Unified School District\":\n",
    "        return {district_name}\n",
    "    elif district_type == \"High School District\":\n",
    "        return {district_name} | hsd_feeders[district_name]\n",
    "    elif district_type == \"Elementary School District\":\n",
    "        return {district_name}\n",
    "    # Specials: {\"County Office of Education (COE)\", \"State Board of Education\", \"Statewide Benefit Charter\"}\n",
    "    else: \n",
    "        return {district_name}"
   ]
  },
  {
   "cell_type": "code",
   "execution_count": 29,
   "metadata": {},
   "outputs": [
    {
     "data": {
      "text/plain": [
       "695"
      ]
     },
     "execution_count": 29,
     "metadata": {},
     "output_type": "execute_result"
    }
   ],
   "source": [
    "high_schools = vosd[vosd[\"GSoffered\"].apply(is_high_school)]\n",
    "ele_schools = vosd[vosd[\"GSoffered\"].apply(is_ele_school)]\n",
    "len(high_schools) + len(ele_schools) # for verification"
   ]
  },
  {
   "cell_type": "code",
   "execution_count": 30,
   "metadata": {},
   "outputs": [],
   "source": [
    "# Assign each high school a set of elementary schools that feed into it\n",
    "feeders = {}\n",
    "for index1, hs in high_schools.iterrows():\n",
    "    candidates = []\n",
    "\n",
    "    if is_k12(hs[\"GSoffered\"]):\n",
    "        candidates.append((hs, 0))\n",
    "\n",
    "    for index2, es in ele_schools.iterrows():\n",
    "        if es[\"District\"] not in get_correct_districts(hs[\"District\"], hs[\"DOCType\"]):\n",
    "            continue\n",
    "         \n",
    "        hs_coords = (hs[\"Latitude\"], hs[\"Longitude\"])\n",
    "        es_coords = (es[\"Latitude\"], es[\"Longitude\"])\n",
    "        dist = distance.distance(hs_coords, es_coords).km\n",
    "        candidates.append((es, dist))\n",
    "\n",
    "    # Sort candidates based on shortest distance and take top 3\n",
    "    candidates = sorted(candidates, key=lambda school_dist_pair: school_dist_pair[1])\n",
    "    feeders[(hs[\"School\"], hs[\"District\"], hs[\"AP Pass Rate\"])] = candidates[0:3] # would store hs row as key but can't hash that  "
   ]
  },
  {
   "cell_type": "code",
   "execution_count": 31,
   "metadata": {},
   "outputs": [
    {
     "name": "stdout",
     "output_type": "stream",
     "text": [
      "1\n"
     ]
    }
   ],
   "source": [
    "# so far tested: unified k-12 \n",
    "# Other cases to test, in order of priority: high school district high school non-k12 (most difficult case), unified high school non k-12, elementary school district high school (only k-12), \n",
    "\n",
    "# Make sure all high schools have at least one ele feeder\n",
    "print(min([len(ele_schools) for ele_schools in feeders.values()]))\n",
    "\n",
    "# Unified K-12\n",
    "#feeders[(\"Mt. Everest Academy\", \"San Diego Unified\")]"
   ]
  },
  {
   "cell_type": "code",
   "execution_count": 32,
   "metadata": {},
   "outputs": [
    {
     "name": "stderr",
     "output_type": "stream",
     "text": [
      "C:\\Users\\vluon\\AppData\\Local\\Temp\\ipykernel_4564\\4049801591.py:39: FutureWarning: The behavior of DataFrame concatenation with empty or all-NA entries is deprecated. In a future version, this will no longer exclude empty or all-NA columns when determining the result dtypes. To retain the old behavior, exclude the relevant entries before the concat operation.\n",
      "  ap_vs_ela_math = pd.concat([ap_vs_ela_math, new_row_df], ignore_index=True)\n"
     ]
    }
   ],
   "source": [
    "# Using math to test...\n",
    "ap_vs_ela_math = pd.DataFrame(columns=[\"High School\", \"AP Pass Rate\", \"MATH Weighted Mean Ele\", \"ELA Weighted Mean Ele\"])\n",
    "for hs, ele_feeders in feeders.items():\n",
    "\n",
    "    # MATH\n",
    "    math_weighted_avg = 0\n",
    "    N_math = 0\n",
    "    for ele in ele_feeders:\n",
    "        n_i = ele[0][\"MATH Students with Scores\"]\n",
    "        x_i = ele[0][\"MATH Mean Scale Score\"]\n",
    "        if (n_i == \"*\") or (x_i == \"*\"):\n",
    "            continue\n",
    "        math_weighted_avg += n_i * x_i\n",
    "        N_math += n_i\n",
    "    if N_math == 0:\n",
    "        math_weighted_avg = None\n",
    "    else:\n",
    "        math_weighted_avg /= N_math\n",
    "\n",
    "    # ELA\n",
    "    ela_weighted_avg = 0\n",
    "    N_ela = 0\n",
    "    for ele in ele_feeders:\n",
    "        n_i = ele[0][\"ELA Students with Scores\"]\n",
    "        x_i = ele[0][\"ELA Mean Scale Score\"]\n",
    "        if (n_i == \"*\") or (x_i == \"*\"):\n",
    "            continue\n",
    "        ela_weighted_avg += n_i * x_i\n",
    "        N_ela += n_i\n",
    "    if N_ela == 0:\n",
    "        ela_weighted_avg = None\n",
    "    else:\n",
    "        ela_weighted_avg /= N_ela\n",
    "\n",
    "    # Construct point\n",
    "    hs_id = hs[0] + \"; \" + hs[1]\n",
    "    hs_ap_pass_rate = hs[2]\n",
    "    new_row_df = pd.DataFrame([{\"High School\": hs_id, \"AP Pass Rate\": hs_ap_pass_rate, \"MATH Weighted Mean Ele\": math_weighted_avg, \"ELA Weighted Mean Ele\": ela_weighted_avg}])\n",
    "    ap_vs_ela_math = pd.concat([ap_vs_ela_math, new_row_df], ignore_index=True)"
   ]
  },
  {
   "cell_type": "code",
   "execution_count": 33,
   "metadata": {},
   "outputs": [
    {
     "data": {
      "text/plain": [
       "0.44315815534208464"
      ]
     },
     "execution_count": 33,
     "metadata": {},
     "output_type": "execute_result"
    },
    {
     "data": {
      "image/png": "[encoded data removed]",
      "text/plain": [
       "<Figure size 432x288 with 1 Axes>"
      ]
     },
     "metadata": {
      "needs_background": "light"
     },
     "output_type": "display_data"
    }
   ],
   "source": [
    "ap_vs_ela_math.plot(x=\"MATH Weighted Mean Ele\", y=\"AP Pass Rate\", kind=\"scatter\", color=\"blue\")\n",
    "plt.xlabel(\"Mean CAASP Grade-3 MATH Scores\")\n",
    "plt.title(\"Elementary CAASP MATH Scores vs High School AP Pass Rate\\nCorrelation R=0.44\")\n",
    "ap_vs_ela_math[\"AP Pass Rate\"].corr(ap_vs_ela_math[\"MATH Weighted Mean Ele\"])\n",
    "\n",
    "#sns.regplot(x='MATH Weighted Mean Ele', y='AP Pass Rate', data=ap_vs_ela_math, scatter_kws={'s': 50}, ci=None, line_kws={'color': 'red'})\n",
    "#plt.title('Scatter Plot with Trendline')\n",
    "#plt.show()"
   ]
  },
  {
   "cell_type": "code",
   "execution_count": 34,
   "metadata": {},
   "outputs": [
    {
     "data": {
      "text/plain": [
       "0.47357053857484366"
      ]
     },
     "execution_count": 34,
     "metadata": {},
     "output_type": "execute_result"
    },
    {
     "data": {
      "image/png": "[encoded data removed]",
      "text/plain": [
       "<Figure size 432x288 with 1 Axes>"
      ]
     },
     "metadata": {
      "needs_background": "light"
     },
     "output_type": "display_data"
    }
   ],
   "source": [
    "ap_vs_ela_math.plot(x=\"ELA Weighted Mean Ele\", y=\"AP Pass Rate\", kind=\"scatter\", color=\"purple\")\n",
    "plt.xlabel(\"Mean CAASP Grade-3 ELA Scores\")\n",
    "plt.title(\"Elementary CAASP ELA Scores vs High School AP Pass Rate\\nCorrelation R=0.47\")\n",
    "ap_vs_ela_math[\"AP Pass Rate\"].corr(ap_vs_ela_math[\"ELA Weighted Mean Ele\"])"
   ]
  },
  {
   "cell_type": "code",
   "execution_count": null,
   "metadata": {},
   "outputs": [],
   "source": []
  }
 ],
 "metadata": {
  "kernelspec": {
   "display_name": "Python 3",
   "language": "python",
   "name": "python3"
  },
  "language_info": {
   "codemirror_mode": {
    "name": "ipython",
    "version": 3
   },
   "file_extension": ".py",
   "mimetype": "text/x-python",
   "name": "python",
   "nbconvert_exporter": "python",
   "pygments_lexer": "ipython3",
   "version": "3.9.7"
  }
 },
 "nbformat": 4,
 "nbformat_minor": 2
}
